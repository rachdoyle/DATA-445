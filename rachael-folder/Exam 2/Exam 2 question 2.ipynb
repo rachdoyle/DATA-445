{
 "cells": [
  {
   "cell_type": "code",
   "execution_count": 2,
   "id": "6dfc8636",
   "metadata": {},
   "outputs": [],
   "source": [
    "import warnings\n",
    "warnings.simplefilter(action= 'ignore', category=FutureWarning)\n",
    "import boto3\n",
    "import pandas as pd; pd.set_option('display.max_columns', 100)\n",
    "import numpy as np \n",
    "\n",
    "from sklearn.linear_model import LinearRegression, Ridge, RidgeCV, Lasso, LassoCV, LogisticRegression\n",
    "from sklearn.model_selection import train_test_split, StratifiedKFold\n",
    "from sklearn.preprocessing import MinMaxScaler\n",
    "from sklearn.metrics import recall_score, accuracy_score\n",
    "\n",
    "import matplotlib.pyplot as plt\n",
    "from sklearn.ensemble import RandomForestClassifier, AdaBoostClassifier,  GradientBoostingClassifier \n",
    "from sklearn.tree import DecisionTreeClassifier\n",
    "from itertools import product\n",
    "\n",
    "s3 = boto3.resource('s3')\n",
    "bucket_name = \"rachaeld-data445\"\n",
    "bucket = s3.Bucket(bucket_name)\n",
    "\n",
    "file_key = 'churn-bigml-80.csv'\n",
    "file_key2 = 'churn-bigml-20.csv'\n",
    "\n",
    "bucket_object = bucket.Object(file_key)\n",
    "file_object = bucket_object.get()\n",
    "file_content_stream = file_object.get('Body')\n",
    "\n",
    "bucket_object2 = bucket.Object(file_key2)\n",
    "file_object2 = bucket_object2.get()\n",
    "file_content_stream2 = file_object2.get('Body')\n",
    "\n",
    "#reading the data-file\n",
    "telecom_train = pd.read_csv(file_content_stream)\n",
    "telecom_test = pd.read_csv(file_content_stream2)\n"
   ]
  },
  {
   "cell_type": "code",
   "execution_count": 3,
   "id": "b04c4b6b",
   "metadata": {},
   "outputs": [],
   "source": [
    "telecom_train = pd.DataFrame(telecom_train)\n",
    "telecom_test = pd.DataFrame(telecom_test)"
   ]
  }
 ],
 "metadata": {
  "kernelspec": {
   "display_name": "conda_python3",
   "language": "python",
   "name": "conda_python3"
  },
  "language_info": {
   "codemirror_mode": {
    "name": "ipython",
    "version": 3
   },
   "file_extension": ".py",
   "mimetype": "text/x-python",
   "name": "python",
   "nbconvert_exporter": "python",
   "pygments_lexer": "ipython3",
   "version": "3.8.12"
  }
 },
 "nbformat": 4,
 "nbformat_minor": 5
}
