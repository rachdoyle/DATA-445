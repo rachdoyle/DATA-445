{
 "cells": [
  {
   "cell_type": "code",
   "execution_count": null,
   "id": "7dd32ca5",
   "metadata": {},
   "outputs": [],
   "source": [
    "#Rachael Doyle\n",
    "\n",
    "#1. What type of algorithm would you use to segment a company customers database into multiple groups?\n",
    "        #k means clustering\n",
    "    \n",
    "#2. Would you frame the problem of spam detection as a supervised learning problem or an unsupervised learning problem? Explain.\n",
    "    #Supervised, because there are two target variables it could get labeled into, spam or not spam\n",
    "    \n",
    "#3.What is a test set, and why would you want to use it?\n",
    "    # a test set is the data after being split that we are using to quantify the performace, and evaluate how well the model ran. We use this to see how \n",
    "    # accurate the model is after running it on the training set. \n",
    "    \n",
    "#4.E\n"
   ]
  },
  {
   "cell_type": "code",
   "execution_count": 4,
   "id": "3d52c5bc",
   "metadata": {},
   "outputs": [
    {
     "data": {
      "text/html": [
       "<div>\n",
       "<style scoped>\n",
       "    .dataframe tbody tr th:only-of-type {\n",
       "        vertical-align: middle;\n",
       "    }\n",
       "\n",
       "    .dataframe tbody tr th {\n",
       "        vertical-align: top;\n",
       "    }\n",
       "\n",
       "    .dataframe thead th {\n",
       "        text-align: right;\n",
       "    }\n",
       "</style>\n",
       "<table border=\"1\" class=\"dataframe\">\n",
       "  <thead>\n",
       "    <tr style=\"text-align: right;\">\n",
       "      <th></th>\n",
       "      <th>No</th>\n",
       "      <th>transaction_date</th>\n",
       "      <th>house_age</th>\n",
       "      <th>distance_to_the_nearest_MRT_station</th>\n",
       "      <th>number_of_convenience_stores</th>\n",
       "      <th>latitude</th>\n",
       "      <th>longitude</th>\n",
       "      <th>house_price_of_unit_area</th>\n",
       "    </tr>\n",
       "  </thead>\n",
       "  <tbody>\n",
       "    <tr>\n",
       "      <th>0</th>\n",
       "      <td>1</td>\n",
       "      <td>2012.917</td>\n",
       "      <td>32.0</td>\n",
       "      <td>84.87882</td>\n",
       "      <td>10</td>\n",
       "      <td>24.98298</td>\n",
       "      <td>121.54024</td>\n",
       "      <td>37.9</td>\n",
       "    </tr>\n",
       "    <tr>\n",
       "      <th>1</th>\n",
       "      <td>2</td>\n",
       "      <td>2012.917</td>\n",
       "      <td>19.5</td>\n",
       "      <td>306.59470</td>\n",
       "      <td>9</td>\n",
       "      <td>24.98034</td>\n",
       "      <td>121.53951</td>\n",
       "      <td>42.2</td>\n",
       "    </tr>\n",
       "    <tr>\n",
       "      <th>2</th>\n",
       "      <td>3</td>\n",
       "      <td>2013.583</td>\n",
       "      <td>13.3</td>\n",
       "      <td>561.98450</td>\n",
       "      <td>5</td>\n",
       "      <td>24.98746</td>\n",
       "      <td>121.54391</td>\n",
       "      <td>47.3</td>\n",
       "    </tr>\n",
       "    <tr>\n",
       "      <th>3</th>\n",
       "      <td>4</td>\n",
       "      <td>2013.500</td>\n",
       "      <td>13.3</td>\n",
       "      <td>561.98450</td>\n",
       "      <td>5</td>\n",
       "      <td>24.98746</td>\n",
       "      <td>121.54391</td>\n",
       "      <td>54.8</td>\n",
       "    </tr>\n",
       "    <tr>\n",
       "      <th>4</th>\n",
       "      <td>5</td>\n",
       "      <td>2012.833</td>\n",
       "      <td>5.0</td>\n",
       "      <td>390.56840</td>\n",
       "      <td>5</td>\n",
       "      <td>24.97937</td>\n",
       "      <td>121.54245</td>\n",
       "      <td>43.1</td>\n",
       "    </tr>\n",
       "  </tbody>\n",
       "</table>\n",
       "</div>"
      ],
      "text/plain": [
       "   No  transaction_date  house_age  distance_to_the_nearest_MRT_station  \\\n",
       "0   1          2012.917       32.0                             84.87882   \n",
       "1   2          2012.917       19.5                            306.59470   \n",
       "2   3          2013.583       13.3                            561.98450   \n",
       "3   4          2013.500       13.3                            561.98450   \n",
       "4   5          2012.833        5.0                            390.56840   \n",
       "\n",
       "   number_of_convenience_stores  latitude  longitude  house_price_of_unit_area  \n",
       "0                            10  24.98298  121.54024                      37.9  \n",
       "1                             9  24.98034  121.53951                      42.2  \n",
       "2                             5  24.98746  121.54391                      47.3  \n",
       "3                             5  24.98746  121.54391                      54.8  \n",
       "4                             5  24.97937  121.54245                      43.1  "
      ]
     },
     "execution_count": 4,
     "metadata": {},
     "output_type": "execute_result"
    }
   ],
   "source": [
    "#5 a\n",
    "import boto3\n",
    "import pandas as pd; pd.set_option('display.max_columns', 100)\n",
    "import numpy as np \n",
    "\n",
    "s3 = boto3.resource('s3')\n",
    "bucket_name = \"rachaeld-data445\"\n",
    "bucket = s3.Bucket(bucket_name)\n",
    "\n",
    "file_key = 'Real_Estate.csv'\n",
    "\n",
    "bucket_object = bucket.Object(file_key)\n",
    "file_object = bucket_object.get()\n",
    "file_content_stream = file_object.get('Body')\n",
    "\n",
    "#reading the data-file\n",
    "house_price = pd.read_csv(file_content_stream)\n",
    "house_price.head()"
   ]
  },
  {
   "cell_type": "code",
   "execution_count": 7,
   "id": "232230ba",
   "metadata": {},
   "outputs": [],
   "source": [
    "#5c\n",
    "from sklearn.model_selection import train_test_split\n",
    "\n",
    "# defining the input and target\n",
    "X = house_price.drop(columns = 'house_price_of_unit_area', axis = 1)\n",
    "Y = house_price['house_price_of_unit_area']\n",
    "\n",
    "# splitting the data\n",
    "X_train, X_test, Y_train, Y_test = train_test_split(X,Y, test_size = .2)\n"
   ]
  },
  {
   "cell_type": "code",
   "execution_count": 8,
   "id": "5f88cdce",
   "metadata": {},
   "outputs": [
    {
     "data": {
      "text/plain": [
       "array([42.61128074, 41.38078212, 45.48807528, 46.10966712, 43.08400841,\n",
       "       38.09483809, 40.09430419, 40.32563439, 43.35811021, 29.93352166,\n",
       "       30.45881765, 46.85078453, 37.95090156,  8.42560275, 12.17384585,\n",
       "       30.78292373, 41.13531279, 39.18097484, 45.28363183, 33.74182096,\n",
       "       29.57376721, 12.70518753, 41.41164415, 32.97173474, 42.80676695,\n",
       "       38.41462493, 46.10689173, 40.73231033, 42.97783489, 32.47481006,\n",
       "       47.66296161, 48.49842535, 45.30410726, 32.30826499, 42.44361789,\n",
       "       38.38858205, 40.02900884, 31.7187608 , 30.19838884, 54.22363667,\n",
       "       36.10292828, 29.6402454 , 49.44513889, 31.51010323, 48.84342415,\n",
       "       44.61679963, 32.9446951 ,  8.37351699, 43.67141882, 41.3722832 ,\n",
       "       30.94663678, 15.52153937, 31.44086973, 38.94219289, 46.29110263,\n",
       "       46.02876309, 32.80404331, 15.3315464 , 28.85356776, 46.02876309,\n",
       "       52.18766161, 42.15195915, 45.51615439, 28.46299354, 48.56949431,\n",
       "       44.08410481, 32.35165914, 24.75988433, 38.75766963, 44.30558702,\n",
       "       51.45337473, 40.71370601, 47.66296161, 33.89799296, 34.98057447,\n",
       "       33.50420643, 52.23974737, 42.33863338, 52.36996178, 44.08410481,\n",
       "       47.41401439, 26.31995854, 51.79209116])"
      ]
     },
     "execution_count": 8,
     "metadata": {},
     "output_type": "execute_result"
    }
   ],
   "source": [
    "#5d\n",
    "from sklearn.linear_model import LinearRegression\n",
    "\n",
    "# building the linear model \n",
    "lm_md = LinearRegression().fit(X_train, Y_train)\n",
    "\n",
    "# predicting on test\n",
    "lm_pred = lm_md.predict(X_test)\n",
    "lm_pred\n"
   ]
  },
  {
   "cell_type": "code",
   "execution_count": 9,
   "id": "5ad85033",
   "metadata": {},
   "outputs": [
    {
     "data": {
      "text/plain": [
       "40.9075972187858"
      ]
     },
     "execution_count": 9,
     "metadata": {},
     "output_type": "execute_result"
    }
   ],
   "source": [
    "# computing the mse\n",
    "np.mean((Y_test - lm_pred)**2)"
   ]
  },
  {
   "cell_type": "code",
   "execution_count": 10,
   "id": "57689bc8",
   "metadata": {},
   "outputs": [
    {
     "data": {
      "text/plain": [
       "array([34.8984247 , 39.82280519, 37.78251309, 49.39882623, 39.8234243 ,\n",
       "       38.63181397, 35.654099  , 47.84691615, 35.45000309, 32.96772048,\n",
       "       45.14598587, 50.6345108 , 47.80629337, 20.5146335 , 49.39882623,\n",
       "       31.75320829, 39.60342885, 41.53319281, 51.64463156, 35.28406594,\n",
       "       36.91700056, 36.1355265 , 50.61079747, 40.25712936, 47.26806654,\n",
       "       38.2863983 , 42.16729811, 46.54770925, 43.34453741, 29.6679172 ,\n",
       "       45.5565555 , 41.85761574, 31.66338522, 15.16216958, 16.89379762,\n",
       "       47.97495713, 48.68716052, 17.2956043 , 31.33546863, 46.29837239,\n",
       "       41.92205007, 42.20141902, 13.98082567, 48.58094379, 36.11098784,\n",
       "       33.94166601, 29.2818857 , 30.07263834, 30.42312089, 31.29791443,\n",
       "       33.96822019, 42.93475332, 48.60688091, 49.58470552, 16.91763665,\n",
       "       28.33630972, 31.28303816, 42.34666173, 33.96822019, 36.08241813,\n",
       "       34.41438993, 39.19789709, 36.41540358, 49.85861206, 41.36477693,\n",
       "       48.24467134, 31.388577  , 48.91117072, 30.37185584, 36.12654432,\n",
       "       44.88634813, 31.47263839, 35.60768563, 51.88361921, 42.36090935,\n",
       "       40.77819536, 41.20557043, 18.13146345, 45.17224234, 49.4519346 ,\n",
       "       42.5669041 , 51.69773993, 39.58158043])"
      ]
     },
     "execution_count": 10,
     "metadata": {},
     "output_type": "execute_result"
    }
   ],
   "source": [
    "#5e\n",
    "from sklearn.model_selection import train_test_split\n",
    "\n",
    "# defining the input and target\n",
    "X2 = house_price.drop(columns = ['house_price_of_unit_area', 'distance_to_the_nearest_MRT_station'], axis =1)\n",
    "Y2 = house_price['house_price_of_unit_area']\n",
    "\n",
    "# splitting the data\n",
    "X_train2, X_test2, Y_train2, Y_test2 = train_test_split(X2,Y2, test_size = .2)\n",
    "\n",
    "# building the model\n",
    "lm_md2 = LinearRegression().fit(X_train2, Y_train2)\n",
    "\n",
    "# predicting on test\n",
    "lm_pred2 = lm_md2.predict(X_test2)\n",
    "lm_pred2"
   ]
  },
  {
   "cell_type": "code",
   "execution_count": 11,
   "id": "48e5273f",
   "metadata": {},
   "outputs": [
    {
     "data": {
      "text/plain": [
       "65.36470646378866"
      ]
     },
     "execution_count": 11,
     "metadata": {},
     "output_type": "execute_result"
    }
   ],
   "source": [
    "# computing the mse\n",
    "np.mean((Y_test2 - lm_pred2)**2)"
   ]
  },
  {
   "cell_type": "code",
   "execution_count": null,
   "id": "af45fea0",
   "metadata": {},
   "outputs": [],
   "source": [
    "#5f\n",
    "    # I would use model 1 , this is because it has a smaller MSE value. "
   ]
  },
  {
   "cell_type": "code",
   "execution_count": 20,
   "id": "d24ef3a0",
   "metadata": {},
   "outputs": [],
   "source": [
    "#5g\n",
    "md1results = list()\n",
    "md2results = list()\n",
    "for i in range(0,100):\n",
    "    # defining the input and target\n",
    "    X = house_price.drop(columns = 'house_price_of_unit_area', axis = 1)\n",
    "    Y = house_price['house_price_of_unit_area']\n",
    "\n",
    "    # splitting the data\n",
    "    X_train, X_test, Y_train, Y_test = train_test_split(X,Y, test_size = .2)\n",
    "\n",
    "    lm_md = LinearRegression().fit(X_train, Y_train)\n",
    "\n",
    "    # predicting on test\n",
    "    lm_pred = lm_md.predict(X_test)\n",
    "    lm_pred\n",
    "    #mean mse\n",
    "    md1results.append(np.mean((Y_test - lm_pred)**2))\n",
    "    \n",
    "    #### model 2\n",
    "    # defining the input and target\n",
    "    X2 = house_price.drop(columns = ['house_price_of_unit_area', 'distance_to_the_nearest_MRT_station'], axis =1)\n",
    "    Y2 = house_price['house_price_of_unit_area']\n",
    "\n",
    "    # splitting the data\n",
    "    X_train2, X_test2, Y_train2, Y_test2 = train_test_split(X2,Y2, test_size = .2)\n",
    "\n",
    "    # building the model\n",
    "    lm_md2 = LinearRegression().fit(X_train2, Y_train2)\n",
    "\n",
    "    # predicting on test\n",
    "    lm_pred2 = lm_md2.predict(X_test2)\n",
    "    lm_pred2\n",
    "    md2results.append(np.mean((Y_test2 - lm_pred2)**2))    "
   ]
  },
  {
   "cell_type": "code",
   "execution_count": 21,
   "id": "d7dc3892",
   "metadata": {},
   "outputs": [
    {
     "data": {
      "image/png": "[encoded data removed]",
      "text/plain": [
       "<Figure size 432x288 with 1 Axes>"
      ]
     },
     "metadata": {
      "needs_background": "light"
     },
     "output_type": "display_data"
    }
   ],
   "source": [
    "import matplotlib.pyplot as plt\n",
    "\n",
    "x = [i for i in range(1, 101)]\n",
    "plt.plot(x, md1results, color = 'blue')\n",
    "plt.plot(x, md2results, color = 'orange')\n",
    "plt.xlabel('Iteration')\n",
    "plt.ylabel('MSE')\n",
    "plt.legend(loc = 'upper right', labels = ['Model 1', 'Model 2'])\n",
    "plt.grid()\n",
    "plt.show();"
   ]
  },
  {
   "cell_type": "code",
   "execution_count": null,
   "id": "9731a6c5",
   "metadata": {},
   "outputs": [],
   "source": [
    "# after running the loop 100 times we can see that on average model 1 has a lower MSE score than model 2, this means that we would prefer model 1, because it performs better."
   ]
  }
 ],
 "metadata": {
  "kernelspec": {
   "display_name": "conda_python3",
   "language": "python",
   "name": "conda_python3"
  },
  "language_info": {
   "codemirror_mode": {
    "name": "ipython",
    "version": 3
   },
   "file_extension": ".py",
   "mimetype": "text/x-python",
   "name": "python",
   "nbconvert_exporter": "python",
   "pygments_lexer": "ipython3",
   "version": "3.8.12"
  }
 },
 "nbformat": 4,
 "nbformat_minor": 5
}
